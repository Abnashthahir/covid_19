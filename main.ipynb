#imports
import requests
import json
import numpy as np

data = requests.get('https://covid.ourworldindata.org/data/owid-covid-data.json')
data_j = (data.json())
A=(data_j['IND']['data'])

#extracted data in the form json

for x in A:
    print (json.dumps(x))
